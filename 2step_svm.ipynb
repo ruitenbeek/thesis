{
  "nbformat": 4,
  "nbformat_minor": 0,
  "metadata": {
    "colab": {
      "name": "2step_svm.ipynb",
      "provenance": [],
      "collapsed_sections": [],
      "authorship_tag": "ABX9TyPJaqQdpV+73Pas34zTyd84",
      "include_colab_link": true
    },
    "kernelspec": {
      "name": "python3",
      "display_name": "Python 3"
    },
    "language_info": {
      "name": "python"
    }
  },
  "cells": [
    {
      "cell_type": "markdown",
      "metadata": {
        "id": "view-in-github",
        "colab_type": "text"
      },
      "source": [
        "<a href=\"https://colab.research.google.com/github/ruitenbeek/thesis/blob/main/2step_svm.ipynb\" target=\"_parent\"><img src=\"https://colab.research.google.com/assets/colab-badge.svg\" alt=\"Open In Colab\"/></a>"
      ]
    },
    {
      "cell_type": "code",
      "metadata": {
        "colab": {
          "base_uri": "https://localhost:8080/"
        },
        "id": "Fm29QK4v2sQQ",
        "outputId": "3cbab6f7-e609-4d3c-bd6c-720acfbd7258"
      },
      "source": [
        "from google.colab import drive\n",
        "drive.mount('/content/gdrive')"
      ],
      "execution_count": null,
      "outputs": [
        {
          "output_type": "stream",
          "text": [
            "Mounted at /content/gdrive\n"
          ],
          "name": "stdout"
        }
      ]
    },
    {
      "cell_type": "code",
      "metadata": {
        "colab": {
          "base_uri": "https://localhost:8080/"
        },
        "id": "rrq64v5q26HA",
        "outputId": "55851fc1-378b-4774-ab9a-3cd34099dc08"
      },
      "source": [
        "import os\n",
        "os.chdir('/content/gdrive/My Drive/thesis/code')\n",
        "!pwd"
      ],
      "execution_count": null,
      "outputs": [
        {
          "output_type": "stream",
          "text": [
            "/content/gdrive/My Drive/thesis/code\n"
          ],
          "name": "stdout"
        }
      ]
    },
    {
      "cell_type": "markdown",
      "metadata": {
        "id": "GuX8LPhH3shi"
      },
      "source": [
        "#Import"
      ]
    },
    {
      "cell_type": "code",
      "metadata": {
        "id": "gH3I7icL27o4"
      },
      "source": [
        "from sklearn.svm import LinearSVC\n",
        "from sklearn.feature_extraction.text import TfidfVectorizer\n",
        "from csv import DictReader\n",
        "import pandas as pd\n",
        "from sklearn.metrics import classification_report"
      ],
      "execution_count": null,
      "outputs": []
    },
    {
      "cell_type": "markdown",
      "metadata": {
        "id": "xoPztAFi3vsv"
      },
      "source": [
        "#Read Files"
      ]
    },
    {
      "cell_type": "code",
      "metadata": {
        "id": "2iJrnR3-3rhc"
      },
      "source": [
        "def read_train_file(file):\n",
        "    data1 = list()\n",
        "    data2 = list()\n",
        "    abu_count = 0\n",
        "    off_count = 0\n",
        "    not_count = 0\n",
        "    with open(file, 'r') as f:\n",
        "        reader = DictReader(f, delimiter='\\t')\n",
        "        for row in reader:\n",
        "            if (row['abusive'] == 'NOT' or row['abusive'] == 'UNKNOWN') and (row['explicitness'] == 'IMPLICIT' or row['explicitness'] == 'EXPLICIT'):\n",
        "                data1.append([row['text'], 'OFF'])\n",
        "                data2.append([row['text'], 'OFF'])\n",
        "                off_count += 1\n",
        "            elif row['abusive'] == 'IMPLICIT' or row['abusive'] == 'EXPLICIT':\n",
        "                data1.append([row['text'], 'OFF'])\n",
        "                data2.append([row['text'], 'ABU'])\n",
        "                abu_count += 1\n",
        "            elif (row['abusive'] == 'NOT' or row['abusive'] == 'UNKNOWN') and row['explicitness'] == 'NOT':\n",
        "                data1.append([row['text'], 'NOT'])\n",
        "                not_count += 1\n",
        "    print(f'ABU: %i\\nOFF: %i\\nNOT: %i' % (abu_count, off_count, not_count))\n",
        "    data1_df = pd.DataFrame(data1)\n",
        "    data1_df.columns = ['text', 'label']\n",
        "    data2_df = pd.DataFrame(data2)\n",
        "    data2_df.columns = ['text', 'label']\n",
        "    return data1_df, data2_df\n"
      ],
      "execution_count": null,
      "outputs": []
    },
    {
      "cell_type": "code",
      "metadata": {
        "id": "o6qSkcAEeIiq"
      },
      "source": [
        "def read_test_file(file):\n",
        "    data1 = list()\n",
        "    data2 = list()\n",
        "    abu_count = 0\n",
        "    off_count = 0\n",
        "    not_count = 0\n",
        "    with open(file, 'r') as f:\n",
        "        reader = DictReader(f, delimiter='\\t')\n",
        "        for row in reader:\n",
        "            if (row['abusive'] == 'NOT' or row['abusive'] == 'UNKNOWN') and (row['explicitness'] == 'IMPLICIT' or row['explicitness'] == 'EXPLICIT'):\n",
        "                data1.append([row['text'], 'OFF'])\n",
        "                data2.append([row['text'], 'OFF'])\n",
        "                off_count += 1\n",
        "            elif row['abusive'] == 'IMPLICIT' or row['abusive'] == 'EXPLICIT':\n",
        "                data1.append([row['text'], 'OFF'])\n",
        "                data2.append([row['text'], 'ABU'])\n",
        "                abu_count += 1\n",
        "            elif (row['abusive'] == 'NOT' or row['abusive'] == 'UNKNOWN') and row['explicitness'] == 'NOT':\n",
        "                data1.append([row['text'], 'NOT'])\n",
        "                data2.append([row['text'], 'NOT'])\n",
        "                not_count += 1\n",
        "    print(f'ABU: %i\\nOFF: %i\\nNOT: %i' % (abu_count, off_count, not_count))\n",
        "    data1_df = pd.DataFrame(data1)\n",
        "    data1_df.columns = ['text', 'label']\n",
        "    data2_df = pd.DataFrame(data2)\n",
        "    data2_df.columns = ['text', 'label']\n",
        "    return data1_df, data2_df"
      ],
      "execution_count": null,
      "outputs": []
    },
    {
      "cell_type": "markdown",
      "metadata": {
        "id": "tvZ9MnkPo8gr"
      },
      "source": [
        "#Split Labels"
      ]
    },
    {
      "cell_type": "code",
      "metadata": {
        "id": "SN1_-Ngjo6ey"
      },
      "source": [
        "def split_labels(data_df):\n",
        "    data_X = data_df.text.tolist()\n",
        "    data_y = data_df.label.tolist()\n",
        "    return data_X, data_y"
      ],
      "execution_count": null,
      "outputs": []
    },
    {
      "cell_type": "markdown",
      "metadata": {
        "id": "sTMeFWdU35Q5"
      },
      "source": [
        "#Model"
      ]
    },
    {
      "cell_type": "code",
      "metadata": {
        "id": "rxUXy2va3B7c"
      },
      "source": [
        "def svm_model1(train_X, train_y):\n",
        "    model = LinearSVC(random_state=0, loss='hinge')\n",
        "    model.fit(train_X, train_y)\n",
        "    return model"
      ],
      "execution_count": null,
      "outputs": []
    },
    {
      "cell_type": "code",
      "metadata": {
        "id": "kL4JU5RznGYs"
      },
      "source": [
        "def svm_model2(train_X, train_y):\n",
        "    model = LinearSVC(random_state=1) \n",
        "    model.fit(train_X, train_y)\n",
        "    return model"
      ],
      "execution_count": null,
      "outputs": []
    },
    {
      "cell_type": "markdown",
      "metadata": {
        "id": "3W6Xa9SJ7LoZ"
      },
      "source": [
        "#Evaluation"
      ]
    },
    {
      "cell_type": "code",
      "metadata": {
        "id": "OriIRGTF7NT8"
      },
      "source": [
        "def evaluation(model1, model2, test_X1, test_y1, test_y2):\n",
        "    pred_y1 = model1.predict(test_X1)\n",
        "    print(classification_report(test_y1, pred_y1, target_names=['NOT', 'OFF'], digits=3))\n",
        "    for i in range(len(pred_y1)):\n",
        "        if pred_y1[i] == 'OFF':\n",
        "            [pred_y1[i]] = model2.predict(test_X1[i])\n",
        "    target_names = ['ABU', 'NOT', 'OFF']\n",
        "    print(classification_report(test_y2, pred_y1, target_names=target_names, digits=3))"
      ],
      "execution_count": null,
      "outputs": []
    },
    {
      "cell_type": "markdown",
      "metadata": {
        "id": "Sood2vrR3-jP"
      },
      "source": [
        "# Main"
      ]
    },
    {
      "cell_type": "code",
      "metadata": {
        "colab": {
          "base_uri": "https://localhost:8080/"
        },
        "id": "vIbiSt1d38Tm",
        "outputId": "2e0ecaed-41f4-41c3-9c6b-897e8d9c0a29"
      },
      "source": [
        "print('###TRAIN Split###')\n",
        "train_data1, train_data2 = read_train_file('train_final_pp.csv')\n",
        "print('\\n###DEV Split###')\n",
        "dev_data1, dev_data2 = read_test_file('dev_final_pp.csv')\n",
        "print('\\n###TEST Split###')\n",
        "test_data1, test_data2 = read_test_file('test_final_pp.csv')\n",
        "train_X1, train_y1 = split_labels(train_data1)\n",
        "train_X2, train_y2 = split_labels(train_data2)\n",
        "dev_X1, dev_y1 = split_labels(dev_data1)\n",
        "dev_X2, dev_y2 = split_labels(dev_data2)\n",
        "test_X1, test_y1 = split_labels(test_data1)\n",
        "test_X2, test_y2 = split_labels(test_data2)\n",
        "\n",
        "all_tweets = train_X1 + dev_X1 + test_X1 \n",
        "vectorizer = TfidfVectorizer()\n",
        "#vectorizer = CountVectorizer()\n",
        "vectorizer.fit(all_tweets)\n",
        "train_vectors1 = vectorizer.transform(train_X1)\n",
        "dev_vectors1 = vectorizer.transform(dev_X1)\n",
        "test_vectors1 = vectorizer.transform(test_X1)\n",
        "train_vectors2 = vectorizer.transform(train_X2)\n",
        "\n",
        "model1 = svm_model1(train_vectors1, train_y1)\n",
        "model2 = svm_model2(train_vectors2, train_y2)\n",
        "print('\\n####DEV RESULTS####')\n",
        "evaluation(model1, model2, dev_vectors1, dev_y1, dev_y2)\n",
        "print('\\n####TEST RESULTS####')\n",
        "evaluation(model1, model2, test_vectors1, test_y1, test_y2)"
      ],
      "execution_count": null,
      "outputs": [
        {
          "output_type": "stream",
          "text": [
            "###TRAIN Split###\n",
            "ABU: 1143\n",
            "OFF: 1445\n",
            "NOT: 5176\n",
            "\n",
            "###DEV Split###\n",
            "ABU: 110\n",
            "OFF: 76\n",
            "NOT: 361\n",
            "\n",
            "###TEST Split###\n",
            "ABU: 637\n",
            "OFF: 399\n",
            "NOT: 2072\n",
            "\n",
            "####DEV RESULTS####\n",
            "              precision    recall  f1-score   support\n",
            "\n",
            "         NOT      0.833     0.898     0.864       361\n",
            "         OFF      0.766     0.651     0.703       186\n",
            "\n",
            "    accuracy                          0.814       547\n",
            "   macro avg      0.799     0.774     0.784       547\n",
            "weighted avg      0.810     0.814     0.809       547\n",
            "\n",
            "              precision    recall  f1-score   support\n",
            "\n",
            "         ABU      0.733     0.500     0.595       110\n",
            "         NOT      0.833     0.898     0.864       361\n",
            "         OFF      0.410     0.447     0.428        76\n",
            "\n",
            "    accuracy                          0.755       547\n",
            "   macro avg      0.659     0.615     0.629       547\n",
            "weighted avg      0.754     0.755     0.749       547\n",
            "\n",
            "\n",
            "####TEST RESULTS####\n",
            "              precision    recall  f1-score   support\n",
            "\n",
            "         NOT      0.807     0.945     0.871      2072\n",
            "         OFF      0.833     0.549     0.662      1036\n",
            "\n",
            "    accuracy                          0.813      3108\n",
            "   macro avg      0.820     0.747     0.766      3108\n",
            "weighted avg      0.816     0.813     0.801      3108\n",
            "\n",
            "              precision    recall  f1-score   support\n",
            "\n",
            "         ABU      0.724     0.256     0.378       637\n",
            "         NOT      0.807     0.945     0.871      2072\n",
            "         OFF      0.301     0.346     0.322       399\n",
            "\n",
            "    accuracy                          0.727      3108\n",
            "   macro avg      0.611     0.516     0.524      3108\n",
            "weighted avg      0.725     0.727     0.699      3108\n",
            "\n"
          ],
          "name": "stdout"
        }
      ]
    }
  ]
}
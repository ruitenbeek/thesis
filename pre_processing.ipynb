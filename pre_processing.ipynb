{
  "nbformat": 4,
  "nbformat_minor": 0,
  "metadata": {
    "colab": {
      "name": "pre-processing.ipynb",
      "provenance": [],
      "authorship_tag": "ABX9TyMpSIQh4h4r1wU8+3NyeNlP",
      "include_colab_link": true
    },
    "kernelspec": {
      "name": "python3",
      "display_name": "Python 3"
    },
    "language_info": {
      "name": "python"
    }
  },
  "cells": [
    {
      "cell_type": "markdown",
      "metadata": {
        "id": "view-in-github",
        "colab_type": "text"
      },
      "source": [
        "<a href=\"https://colab.research.google.com/github/ruitenbeek/thesis/blob/main/pre_processing.ipynb\" target=\"_parent\"><img src=\"https://colab.research.google.com/assets/colab-badge.svg\" alt=\"Open In Colab\"/></a>"
      ]
    },
    {
      "cell_type": "code",
      "metadata": {
        "colab": {
          "base_uri": "https://localhost:8080/"
        },
        "id": "Fm29QK4v2sQQ",
        "outputId": "b6a1fdb2-f908-42ca-fa6d-b0bd7b6c676f"
      },
      "source": [
        "from google.colab import drive\n",
        "drive.mount('/content/gdrive')"
      ],
      "execution_count": null,
      "outputs": [
        {
          "output_type": "stream",
          "text": [
            "Mounted at /content/gdrive\n"
          ],
          "name": "stdout"
        }
      ]
    },
    {
      "cell_type": "code",
      "metadata": {
        "colab": {
          "base_uri": "https://localhost:8080/"
        },
        "id": "rrq64v5q26HA",
        "outputId": "a93fa113-40f7-4090-af92-280509905269"
      },
      "source": [
        "import os\n",
        "os.chdir('/content/gdrive/My Drive/thesis/code')\n",
        "!pwd"
      ],
      "execution_count": null,
      "outputs": [
        {
          "output_type": "stream",
          "text": [
            "/content/gdrive/My Drive/thesis/code\n"
          ],
          "name": "stdout"
        }
      ]
    },
    {
      "cell_type": "code",
      "metadata": {
        "colab": {
          "base_uri": "https://localhost:8080/"
        },
        "id": "I_KIh2armG5c",
        "outputId": "8222183f-c67f-4000-f765-a38718dab880"
      },
      "source": [
        "!pip install emoji --upgrade\n",
        "import emoji\n",
        "import re\n",
        "import csv"
      ],
      "execution_count": null,
      "outputs": [
        {
          "output_type": "stream",
          "text": [
            "Collecting emoji\n",
            "\u001b[?25l  Downloading https://files.pythonhosted.org/packages/24/fa/b3368f41b95a286f8d300e323449ab4e86b85334c2e0b477e94422b8ed0f/emoji-1.2.0-py3-none-any.whl (131kB)\n",
            "\u001b[K     |████████████████████████████████| 133kB 2.9MB/s \n",
            "\u001b[?25hInstalling collected packages: emoji\n",
            "Successfully installed emoji-1.2.0\n"
          ],
          "name": "stdout"
        }
      ]
    },
    {
      "cell_type": "code",
      "metadata": {
        "id": "70M7oym3iYYf"
      },
      "source": [
        "def read_file(file, new_file):\n",
        "    abu_count = 0\n",
        "    off_count = 0\n",
        "    not_count = 0\n",
        "    with open(file, 'r') as f:\n",
        "        reader = csv.DictReader(f, delimiter='\\t')\n",
        "        with open(new_file, 'w') as new_f:\n",
        "            fieldnames = ['id', 'text', 'user', 'source', 'user.description', 'abusive', 'explicitness', 'target']\n",
        "            writer = csv.DictWriter(new_f, fieldnames=fieldnames, delimiter='\\t')\n",
        "            writer.writeheader()\n",
        "            for row in reader:\n",
        "                if (row['abusive'] == 'NOT' or row['abusive'] == 'UNKNOWN') and (row['explicitness'] == 'IMPLICIT' or row['explicitness'] == 'EXPLICIT'):\n",
        "                    off_count += 1\n",
        "                elif row['abusive'] == 'IMPLICIT' or row['abusive'] == 'EXPLICIT':\n",
        "                    abu_count += 1\n",
        "                elif (row['abusive'] == 'NOT' or row['abusive'] == 'UNKNOWN') and row['explicitness'] == 'NOT':\n",
        "                    not_count += 1\n",
        "                row['text'] = pre_processing(row['text'])\n",
        "                writer.writerow(row)\n",
        "    print(f'ABU: %i\\nOFF: %i\\nNOT: %i' % (abu_count, off_count, not_count))"
      ],
      "execution_count": null,
      "outputs": []
    },
    {
      "cell_type": "code",
      "metadata": {
        "id": "z4G4x60KiO3q"
      },
      "source": [
        "def pre_processing(text):\n",
        "    text = emoji.demojize(text)\n",
        "    text = text.lower()\n",
        "    text = re.sub(r'#', '', text)\n",
        "    text = re.sub(r'http\\S+', 'URL', text)\n",
        "    text = re.sub('@[A-Za-z0-9]+', 'MENTION', text)\n",
        "    return text"
      ],
      "execution_count": null,
      "outputs": []
    },
    {
      "cell_type": "code",
      "metadata": {
        "id": "t_fpNDzxmdgx",
        "colab": {
          "base_uri": "https://localhost:8080/"
        },
        "outputId": "1532ecf6-6ab3-4674-f061-9375c75d34bc"
      },
      "source": [
        "read_file('train_final.csv', 'train_final_pp.csv')\n",
        "read_file('dev_final.csv', 'dev_final_pp.csv')\n",
        "read_file('test_final.csv', 'test_final_pp.csv')"
      ],
      "execution_count": null,
      "outputs": [
        {
          "output_type": "stream",
          "text": [
            "ABU: 1143\n",
            "OFF: 1445\n",
            "NOT: 5176\n",
            "ABU: 110\n",
            "OFF: 76\n",
            "NOT: 361\n",
            "ABU: 637\n",
            "OFF: 399\n",
            "NOT: 2072\n"
          ],
          "name": "stdout"
        }
      ]
    }
  ]
}
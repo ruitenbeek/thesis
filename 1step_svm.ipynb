{
  "nbformat": 4,
  "nbformat_minor": 0,
  "metadata": {
    "colab": {
      "name": "1step_svm.ipynb",
      "provenance": [],
      "authorship_tag": "ABX9TyNPePd+a7AkduYWEV6xQwjb",
      "include_colab_link": true
    },
    "kernelspec": {
      "name": "python3",
      "display_name": "Python 3"
    },
    "language_info": {
      "name": "python"
    }
  },
  "cells": [
    {
      "cell_type": "markdown",
      "metadata": {
        "id": "view-in-github",
        "colab_type": "text"
      },
      "source": [
        "<a href=\"https://colab.research.google.com/github/ruitenbeek/thesis/blob/main/1step_svm.ipynb\" target=\"_parent\"><img src=\"https://colab.research.google.com/assets/colab-badge.svg\" alt=\"Open In Colab\"/></a>"
      ]
    },
    {
      "cell_type": "code",
      "metadata": {
        "colab": {
          "base_uri": "https://localhost:8080/"
        },
        "id": "Fm29QK4v2sQQ",
        "outputId": "4a52e532-fafd-4c48-8d10-dde7e5ee4ee5"
      },
      "source": [
        "from google.colab import drive\n",
        "drive.mount('/content/gdrive')"
      ],
      "execution_count": null,
      "outputs": [
        {
          "output_type": "stream",
          "text": [
            "Drive already mounted at /content/gdrive; to attempt to forcibly remount, call drive.mount(\"/content/gdrive\", force_remount=True).\n"
          ],
          "name": "stdout"
        }
      ]
    },
    {
      "cell_type": "code",
      "metadata": {
        "colab": {
          "base_uri": "https://localhost:8080/"
        },
        "id": "rrq64v5q26HA",
        "outputId": "de35a3e6-deed-4a4d-f431-8e945c135173"
      },
      "source": [
        "import os\n",
        "os.chdir('/content/gdrive/My Drive/thesis/code')\n",
        "!pwd"
      ],
      "execution_count": null,
      "outputs": [
        {
          "output_type": "stream",
          "text": [
            "/content/gdrive/My Drive/thesis/code\n"
          ],
          "name": "stdout"
        }
      ]
    },
    {
      "cell_type": "markdown",
      "metadata": {
        "id": "GuX8LPhH3shi"
      },
      "source": [
        "#Import"
      ]
    },
    {
      "cell_type": "code",
      "metadata": {
        "id": "gH3I7icL27o4"
      },
      "source": [
        "from sklearn.svm import LinearSVC\n",
        "from sklearn.feature_extraction.text import TfidfVectorizer\n",
        "from csv import DictReader\n",
        "import pandas as pd\n",
        "from sklearn.metrics import classification_report"
      ],
      "execution_count": null,
      "outputs": []
    },
    {
      "cell_type": "markdown",
      "metadata": {
        "id": "xoPztAFi3vsv"
      },
      "source": [
        "#Read Files"
      ]
    },
    {
      "cell_type": "code",
      "metadata": {
        "id": "2iJrnR3-3rhc"
      },
      "source": [
        "def read_file(file):\n",
        "    data = list()\n",
        "    abu_count = 0\n",
        "    off_count = 0\n",
        "    not_count = 0\n",
        "    with open(file, 'r') as f:\n",
        "        reader = DictReader(f, delimiter='\\t')\n",
        "        for row in reader:\n",
        "            if (row['abusive'] == 'NOT' or row['abusive'] == 'UNKNOWN') and (row['explicitness'] == 'IMPLICIT' or row['explicitness'] == 'EXPLICIT'):\n",
        "                data.append([row['text'], 'OFF'])\n",
        "                off_count += 1\n",
        "            elif row['abusive'] == 'IMPLICIT' or row['abusive'] == 'EXPLICIT':\n",
        "                data.append([row['text'], 'ABU'])\n",
        "                abu_count += 1\n",
        "            elif (row['abusive'] == 'NOT' or row['abusive'] == 'UNKNOWN') and row['explicitness'] == 'NOT':\n",
        "                data.append([row['text'], 'NOT'])\n",
        "                not_count += 1\n",
        "    print(f'ABU: %i\\nOFF: %i\\nNOT: %i' % (abu_count, off_count, not_count))\n",
        "    data_df = pd.DataFrame(data)\n",
        "    data_df.columns = ['text', 'label']\n",
        "    return data_df\n"
      ],
      "execution_count": null,
      "outputs": []
    },
    {
      "cell_type": "markdown",
      "metadata": {
        "id": "tvZ9MnkPo8gr"
      },
      "source": [
        "#Split Labels"
      ]
    },
    {
      "cell_type": "code",
      "metadata": {
        "id": "SN1_-Ngjo6ey"
      },
      "source": [
        "def split_labels(data_df):\n",
        "    data_X = data_df.text.tolist()\n",
        "    data_y = data_df.label.tolist()\n",
        "    return data_X, data_y"
      ],
      "execution_count": null,
      "outputs": []
    },
    {
      "cell_type": "markdown",
      "metadata": {
        "id": "sTMeFWdU35Q5"
      },
      "source": [
        "#Model"
      ]
    },
    {
      "cell_type": "code",
      "metadata": {
        "id": "rxUXy2va3B7c"
      },
      "source": [
        "def svm_model(train_X, train_y):\n",
        "    model = LinearSVC(random_state=0)\n",
        "    model.fit(train_X, train_y)\n",
        "    return model"
      ],
      "execution_count": null,
      "outputs": []
    },
    {
      "cell_type": "markdown",
      "metadata": {
        "id": "3W6Xa9SJ7LoZ"
      },
      "source": [
        "#Evaluation"
      ]
    },
    {
      "cell_type": "code",
      "metadata": {
        "id": "OriIRGTF7NT8"
      },
      "source": [
        "def evaluation(model, test_X, test_y):\n",
        "    pred_y = model.predict(test_X)\n",
        "    target_names = ['ABU', 'NOT', 'OFF']\n",
        "    print(classification_report(test_y, pred_y, target_names=target_names, digits=3))"
      ],
      "execution_count": null,
      "outputs": []
    },
    {
      "cell_type": "markdown",
      "metadata": {
        "id": "Sood2vrR3-jP"
      },
      "source": [
        "# Main"
      ]
    },
    {
      "cell_type": "code",
      "metadata": {
        "colab": {
          "base_uri": "https://localhost:8080/"
        },
        "id": "vIbiSt1d38Tm",
        "outputId": "14941e01-05b2-4135-8152-b35e350014f0"
      },
      "source": [
        "print('###TRAIN Split###')\n",
        "train_data = read_file('train_final_pp.csv')\n",
        "print('\\n###DEV Split###')\n",
        "dev_data = read_file('dev_final_pp.csv')\n",
        "print('\\n###TEST Split###')\n",
        "test_data = read_file('test_final_pp.csv')\n",
        "train_X, train_y = split_labels(train_data)\n",
        "dev_X, dev_y = split_labels(dev_data)\n",
        "test_X, test_y = split_labels(test_data)\n",
        "\n",
        "all_tweets = train_X + dev_X + test_X \n",
        "vectorizer = TfidfVectorizer()\n",
        "vectorizer.fit(all_tweets)\n",
        "train_vectors = vectorizer.transform(train_X)\n",
        "dev_vectors = vectorizer.transform(dev_X)\n",
        "test_vectors = vectorizer.transform(test_X)\n",
        "\n",
        "model = svm_model(train_vectors, train_y)\n",
        "print('\\n####DEV Results####')\n",
        "evaluation(model, dev_vectors, dev_y)\n",
        "print('\\n####TEST Results####')\n",
        "evaluation(model, test_vectors, test_y)"
      ],
      "execution_count": null,
      "outputs": [
        {
          "output_type": "stream",
          "text": [
            "###TRAIN Split###\n",
            "ABU: 1143\n",
            "OFF: 1445\n",
            "NOT: 5176\n",
            "\n",
            "###DEV Split###\n",
            "ABU: 110\n",
            "OFF: 76\n",
            "NOT: 361\n",
            "\n",
            "###TEST Split###\n",
            "ABU: 637\n",
            "OFF: 399\n",
            "NOT: 2072\n",
            "\n",
            "####DEV Results####\n",
            "              precision    recall  f1-score   support\n",
            "\n",
            "         ABU      0.716     0.482     0.576       110\n",
            "         NOT      0.814     0.934     0.870       361\n",
            "         OFF      0.424     0.329     0.370        76\n",
            "\n",
            "    accuracy                          0.759       547\n",
            "   macro avg      0.651     0.581     0.605       547\n",
            "weighted avg      0.740     0.759     0.741       547\n",
            "\n",
            "\n",
            "####TEST Results####\n",
            "              precision    recall  f1-score   support\n",
            "\n",
            "         ABU      0.777     0.235     0.361       637\n",
            "         NOT      0.785     0.962     0.864      2072\n",
            "         OFF      0.309     0.291     0.300       399\n",
            "\n",
            "    accuracy                          0.727      3108\n",
            "   macro avg      0.624     0.496     0.508      3108\n",
            "weighted avg      0.722     0.727     0.689      3108\n",
            "\n"
          ],
          "name": "stdout"
        }
      ]
    }
  ]
}
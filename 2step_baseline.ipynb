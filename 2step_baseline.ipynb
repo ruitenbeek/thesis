{
  "nbformat": 4,
  "nbformat_minor": 0,
  "metadata": {
    "colab": {
      "name": "2step_baseline.ipynb",
      "provenance": [],
      "authorship_tag": "ABX9TyNBQqSUoTb7hBcwTSKA6PIM",
      "include_colab_link": true
    },
    "kernelspec": {
      "name": "python3",
      "display_name": "Python 3"
    },
    "language_info": {
      "name": "python"
    }
  },
  "cells": [
    {
      "cell_type": "markdown",
      "metadata": {
        "id": "view-in-github",
        "colab_type": "text"
      },
      "source": [
        "<a href=\"https://colab.research.google.com/github/ruitenbeek/thesis/blob/main/2step_baseline.ipynb\" target=\"_parent\"><img src=\"https://colab.research.google.com/assets/colab-badge.svg\" alt=\"Open In Colab\"/></a>"
      ]
    },
    {
      "cell_type": "code",
      "metadata": {
        "colab": {
          "base_uri": "https://localhost:8080/"
        },
        "id": "PEGmY-ursyyB",
        "outputId": "0a79229c-d3b8-4d31-91bb-6ad9eac91c89"
      },
      "source": [
        "from google.colab import drive\n",
        "drive.mount('/content/gdrive')"
      ],
      "execution_count": null,
      "outputs": [
        {
          "output_type": "stream",
          "text": [
            "Drive already mounted at /content/gdrive; to attempt to forcibly remount, call drive.mount(\"/content/gdrive\", force_remount=True).\n"
          ],
          "name": "stdout"
        }
      ]
    },
    {
      "cell_type": "code",
      "metadata": {
        "colab": {
          "base_uri": "https://localhost:8080/"
        },
        "id": "FSH8FRtQUP5H",
        "outputId": "8add984d-cef3-4058-d808-917ffca82a2f"
      },
      "source": [
        "import os\n",
        "os.chdir('/content/gdrive/My Drive/thesis/code')\n",
        "!pwd"
      ],
      "execution_count": null,
      "outputs": [
        {
          "output_type": "stream",
          "text": [
            "/content/gdrive/My Drive/thesis/code\n"
          ],
          "name": "stdout"
        }
      ]
    },
    {
      "cell_type": "code",
      "metadata": {
        "id": "_7NS2qYbURzJ"
      },
      "source": [
        "from sklearn.dummy import DummyClassifier\n",
        "from csv import DictReader\n",
        "import pandas as pd\n",
        "from sklearn.metrics import classification_report"
      ],
      "execution_count": null,
      "outputs": []
    },
    {
      "cell_type": "code",
      "metadata": {
        "id": "KD78-6dtUe_B"
      },
      "source": [
        "def read_train_file(file):\n",
        "    data1 = list()\n",
        "    data2 = list()\n",
        "    abu_count = 0\n",
        "    off_count = 0\n",
        "    not_count = 0\n",
        "    with open(file, 'r') as f:\n",
        "        reader = DictReader(f, delimiter='\\t')\n",
        "        for row in reader:\n",
        "            if (row['abusive'] == 'NOT' or row['abusive'] == 'UNKNOWN') and (row['explicitness'] == 'IMPLICIT' or row['explicitness'] == 'EXPLICIT'):\n",
        "                data1.append([row['text'], 'OFF'])\n",
        "                data2.append([row['text'], 'OFF'])\n",
        "                off_count += 1\n",
        "            elif row['abusive'] == 'IMPLICIT' or row['abusive'] == 'EXPLICIT':\n",
        "                data1.append([row['text'], 'OFF'])\n",
        "                data2.append([row['text'], 'ABU'])\n",
        "                abu_count += 1\n",
        "            elif (row['abusive'] == 'NOT' or row['abusive'] == 'UNKNOWN') and row['explicitness'] == 'NOT':\n",
        "                data1.append([row['text'], 'NOT'])\n",
        "                not_count += 1\n",
        "    print(f'ABU: %i\\nOFF: %i\\nNOT: %i' % (abu_count, off_count, not_count))\n",
        "    data1_df = pd.DataFrame(data1)\n",
        "    data1_df.columns = ['text', 'label']\n",
        "    data2_df = pd.DataFrame(data2)\n",
        "    data2_df.columns = ['text', 'label']\n",
        "    return data1_df, data2_df"
      ],
      "execution_count": null,
      "outputs": []
    },
    {
      "cell_type": "code",
      "metadata": {
        "id": "YoapHgj0V13S"
      },
      "source": [
        "def read_test_file(file):\n",
        "    data1 = list()\n",
        "    data2 = list()\n",
        "    abu_count = 0\n",
        "    off_count = 0\n",
        "    not_count = 0\n",
        "    with open(file, 'r') as f:\n",
        "        reader = DictReader(f, delimiter='\\t')\n",
        "        for row in reader:\n",
        "            if (row['abusive'] == 'NOT' or row['abusive'] == 'UNKNOWN') and (row['explicitness'] == 'IMPLICIT' or row['explicitness'] == 'EXPLICIT'):\n",
        "                data1.append([row['text'], 'OFF'])\n",
        "                data2.append([row['text'], 'OFF'])\n",
        "                off_count += 1\n",
        "            elif row['abusive'] == 'IMPLICIT' or row['abusive'] == 'EXPLICIT':\n",
        "                data1.append([row['text'], 'OFF'])\n",
        "                data2.append([row['text'], 'ABU'])\n",
        "                abu_count += 1\n",
        "            elif (row['abusive'] == 'NOT' or row['abusive'] == 'UNKNOWN') and row['explicitness'] == 'NOT':\n",
        "                data1.append([row['text'], 'NOT'])\n",
        "                data2.append([row['text'], 'NOT'])\n",
        "                not_count += 1\n",
        "    print(f'ABU: %i\\nOFF: %i\\nNOT: %i' % (abu_count, off_count, not_count))\n",
        "    data1_df = pd.DataFrame(data1)\n",
        "    data1_df.columns = ['text', 'label']\n",
        "    data2_df = pd.DataFrame(data2)\n",
        "    data2_df.columns = ['text', 'label']\n",
        "    return data1_df, data2_df"
      ],
      "execution_count": null,
      "outputs": []
    },
    {
      "cell_type": "code",
      "metadata": {
        "id": "xnKDQoOkUhzX"
      },
      "source": [
        "def split_labels(data_df):\n",
        "    data_X = data_df.text.tolist()\n",
        "    data_y = data_df.label.tolist()\n",
        "    return data_X, data_y"
      ],
      "execution_count": null,
      "outputs": []
    },
    {
      "cell_type": "code",
      "metadata": {
        "id": "teuS9sWfUmOg"
      },
      "source": [
        "def dummy1(train_X, train_y):\n",
        "    model = DummyClassifier(strategy='most_frequent')\n",
        "    model.fit(train_X, train_y)\n",
        "    return model"
      ],
      "execution_count": null,
      "outputs": []
    },
    {
      "cell_type": "code",
      "metadata": {
        "id": "hFM-CGG6V49y"
      },
      "source": [
        "def dummy2(train_X, train_y):\n",
        "    model = DummyClassifier(strategy='most_frequent')\n",
        "    model.fit(train_X, train_y)\n",
        "    return model"
      ],
      "execution_count": null,
      "outputs": []
    },
    {
      "cell_type": "code",
      "metadata": {
        "id": "8vgzbt5HUwhN"
      },
      "source": [
        "def evaluation(model1, model2, test_X1, test_y1, test_y2):\n",
        "    pred_y1 = model1.predict(test_X1)\n",
        "    print(classification_report(test_y1, pred_y1, target_names=['NOT', 'OFF'], digits=2))\n",
        "    for i in range(len(pred_y1)):\n",
        "        if pred_y1[i] == 'OFF':\n",
        "            [pred_y1[i]] = model2.predict(test_X1[i])\n",
        "    target_names = ['ABU', 'NOT', 'OFF']\n",
        "    print(classification_report(test_y2, pred_y1, target_names=target_names, digits=2))"
      ],
      "execution_count": null,
      "outputs": []
    },
    {
      "cell_type": "code",
      "metadata": {
        "colab": {
          "base_uri": "https://localhost:8080/"
        },
        "id": "PZSVNJrpUzJ7",
        "outputId": "db0a2c3d-0837-482a-97d8-c0625e1b8e3f"
      },
      "source": [
        "print('###TRAIN Split###')\n",
        "train_data1, train_data2 = read_train_file('train_final_pp.csv')\n",
        "print('\\n###TEST Split###')\n",
        "test_data1, test_data2 = read_test_file('test_final_pp.csv')\n",
        "train_X1, train_y1 = split_labels(train_data1)\n",
        "train_X2, train_y2 = split_labels(train_data2)\n",
        "test_X1, test_y1 = split_labels(test_data1)\n",
        "test_X2, test_y2 = split_labels(test_data2)\n",
        "\n",
        "model1 = dummy1(train_X1, train_y1)\n",
        "model2 = dummy2(train_X2, train_y2)\n",
        "print('\\n####TEST Results####')\n",
        "evaluation(model1, model2, test_X1, test_y1, test_y2)"
      ],
      "execution_count": null,
      "outputs": [
        {
          "output_type": "stream",
          "text": [
            "###TRAIN Split###\n",
            "ABU: 1143\n",
            "OFF: 1445\n",
            "NOT: 5176\n",
            "\n",
            "###TEST Split###\n",
            "ABU: 637\n",
            "OFF: 399\n",
            "NOT: 2072\n",
            "\n",
            "####TEST Results####\n",
            "              precision    recall  f1-score   support\n",
            "\n",
            "         NOT       0.67      1.00      0.80      2072\n",
            "         OFF       0.00      0.00      0.00      1036\n",
            "\n",
            "    accuracy                           0.67      3108\n",
            "   macro avg       0.33      0.50      0.40      3108\n",
            "weighted avg       0.44      0.67      0.53      3108\n",
            "\n",
            "              precision    recall  f1-score   support\n",
            "\n",
            "         ABU       0.00      0.00      0.00       637\n",
            "         NOT       0.67      1.00      0.80      2072\n",
            "         OFF       0.00      0.00      0.00       399\n",
            "\n",
            "    accuracy                           0.67      3108\n",
            "   macro avg       0.22      0.33      0.27      3108\n",
            "weighted avg       0.44      0.67      0.53      3108\n",
            "\n"
          ],
          "name": "stdout"
        },
        {
          "output_type": "stream",
          "text": [
            "/usr/local/lib/python3.7/dist-packages/sklearn/metrics/_classification.py:1272: UndefinedMetricWarning: Precision and F-score are ill-defined and being set to 0.0 in labels with no predicted samples. Use `zero_division` parameter to control this behavior.\n",
            "  _warn_prf(average, modifier, msg_start, len(result))\n"
          ],
          "name": "stderr"
        }
      ]
    }
  ]
}
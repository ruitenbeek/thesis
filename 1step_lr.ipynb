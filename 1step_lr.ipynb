{
  "nbformat": 4,
  "nbformat_minor": 0,
  "metadata": {
    "colab": {
      "name": "1step_lr.ipynb",
      "provenance": [],
      "authorship_tag": "ABX9TyMSvdoPRRAO4J2GsuIumnDZ",
      "include_colab_link": true
    },
    "kernelspec": {
      "display_name": "Python 3",
      "name": "python3"
    },
    "language_info": {
      "name": "python"
    }
  },
  "cells": [
    {
      "cell_type": "markdown",
      "metadata": {
        "id": "view-in-github",
        "colab_type": "text"
      },
      "source": [
        "<a href=\"https://colab.research.google.com/github/ruitenbeek/thesis/blob/main/1step_lr.ipynb\" target=\"_parent\"><img src=\"https://colab.research.google.com/assets/colab-badge.svg\" alt=\"Open In Colab\"/></a>"
      ]
    },
    {
      "cell_type": "code",
      "metadata": {
        "colab": {
          "base_uri": "https://localhost:8080/"
        },
        "id": "Fm29QK4v2sQQ",
        "outputId": "8d968666-cb29-4e0f-c33d-abc596560f4f"
      },
      "source": [
        "from google.colab import drive\n",
        "drive.mount('/content/gdrive')"
      ],
      "execution_count": 1,
      "outputs": [
        {
          "output_type": "stream",
          "text": [
            "Mounted at /content/gdrive\n"
          ],
          "name": "stdout"
        }
      ]
    },
    {
      "cell_type": "code",
      "metadata": {
        "colab": {
          "base_uri": "https://localhost:8080/"
        },
        "id": "rrq64v5q26HA",
        "outputId": "7ff6c267-5933-4ac7-d992-a53deff150a1"
      },
      "source": [
        "import os\n",
        "os.chdir('/content/gdrive/My Drive/thesis/code')\n",
        "!pwd"
      ],
      "execution_count": null,
      "outputs": [
        {
          "output_type": "stream",
          "text": [
            "/content/gdrive/My Drive/thesis/code\n"
          ],
          "name": "stdout"
        }
      ]
    },
    {
      "cell_type": "markdown",
      "metadata": {
        "id": "GuX8LPhH3shi"
      },
      "source": [
        "#Import"
      ]
    },
    {
      "cell_type": "code",
      "metadata": {
        "id": "gH3I7icL27o4"
      },
      "source": [
        "from sklearn.linear_model import LogisticRegression\n",
        "from sklearn.feature_extraction.text import TfidfVectorizer\n",
        "from csv import DictReader\n",
        "import pandas as pd\n",
        "from sklearn.metrics import classification_report"
      ],
      "execution_count": null,
      "outputs": []
    },
    {
      "cell_type": "markdown",
      "metadata": {
        "id": "xoPztAFi3vsv"
      },
      "source": [
        "#Read Files"
      ]
    },
    {
      "cell_type": "code",
      "metadata": {
        "id": "2iJrnR3-3rhc"
      },
      "source": [
        "def read_file(file):\n",
        "    data = list()\n",
        "    abu_count = 0\n",
        "    off_count = 0\n",
        "    not_count = 0\n",
        "    with open(file, 'r') as f:\n",
        "        reader = DictReader(f, delimiter='\\t')\n",
        "        for row in reader:\n",
        "            if (row['abusive'] == 'NOT' or row['abusive'] == 'UNKNOWN') and (row['explicitness'] == 'IMPLICIT' or row['explicitness'] == 'EXPLICIT'):\n",
        "                data.append([row['text'], 'OFF'])\n",
        "                off_count += 1\n",
        "            elif row['abusive'] == 'IMPLICIT' or row['abusive'] == 'EXPLICIT':\n",
        "                data.append([row['text'], 'ABU'])\n",
        "                abu_count += 1\n",
        "            elif (row['abusive'] == 'NOT' or row['abusive'] == 'UNKNOWN') and row['explicitness'] == 'NOT':\n",
        "                data.append([row['text'], 'NOT'])\n",
        "                not_count += 1\n",
        "    print(f'ABU: %i\\nOFF: %i\\nNOT: %i' % (abu_count, off_count, not_count))\n",
        "    data_df = pd.DataFrame(data)\n",
        "    data_df.columns = ['text', 'label']\n",
        "    return data_df\n"
      ],
      "execution_count": null,
      "outputs": []
    },
    {
      "cell_type": "markdown",
      "metadata": {
        "id": "tvZ9MnkPo8gr"
      },
      "source": [
        "#Split Labels"
      ]
    },
    {
      "cell_type": "code",
      "metadata": {
        "id": "SN1_-Ngjo6ey"
      },
      "source": [
        "def split_labels(data_df):\n",
        "    data_X = data_df.text.tolist()\n",
        "    data_y = data_df.label.tolist()\n",
        "    return data_X, data_y"
      ],
      "execution_count": null,
      "outputs": []
    },
    {
      "cell_type": "markdown",
      "metadata": {
        "id": "sTMeFWdU35Q5"
      },
      "source": [
        "#Model"
      ]
    },
    {
      "cell_type": "code",
      "metadata": {
        "id": "rxUXy2va3B7c"
      },
      "source": [
        "def lr_model(train_X, train_y):\n",
        "    model = LogisticRegression(random_state=0, max_iter=200)\n",
        "    model.fit(train_X, train_y)\n",
        "    return model"
      ],
      "execution_count": null,
      "outputs": []
    },
    {
      "cell_type": "markdown",
      "metadata": {
        "id": "3W6Xa9SJ7LoZ"
      },
      "source": [
        "#Evaluation"
      ]
    },
    {
      "cell_type": "code",
      "metadata": {
        "id": "OriIRGTF7NT8"
      },
      "source": [
        "def evaluation(model, test_X, test_y):\n",
        "    pred_y = model.predict(test_X)\n",
        "    target_names = ['ABU', 'NOT', 'OFF']\n",
        "    print(classification_report(test_y, pred_y, target_names=target_names, digits=3))"
      ],
      "execution_count": null,
      "outputs": []
    },
    {
      "cell_type": "markdown",
      "metadata": {
        "id": "Sood2vrR3-jP"
      },
      "source": [
        "# Main"
      ]
    },
    {
      "cell_type": "code",
      "metadata": {
        "colab": {
          "base_uri": "https://localhost:8080/"
        },
        "id": "vIbiSt1d38Tm",
        "outputId": "cd89065d-3ed2-4a27-a1b6-cdf7c8cc3c54"
      },
      "source": [
        "print('###TRAIN Split###')\n",
        "train_data = read_file('train_final_pp.csv')\n",
        "print('\\n###DEV Split###')\n",
        "dev_data = read_file('dev_final_pp.csv')\n",
        "print('\\n###TEST Split###')\n",
        "test_data = read_file('test_final_pp.csv')\n",
        "train_X, train_y = split_labels(train_data)\n",
        "dev_X, dev_y = split_labels(dev_data)\n",
        "test_X, test_y = split_labels(test_data)\n",
        "\n",
        "all_tweets = train_X + dev_X + test_X \n",
        "vectorizer = TfidfVectorizer()\n",
        "vectorizer.fit(all_tweets)\n",
        "\n",
        "train_vectors = vectorizer.transform(train_X)\n",
        "dev_vectors = vectorizer.transform(dev_X)\n",
        "test_vectors = vectorizer.transform(test_X)\n",
        "\n",
        "model = lr_model(train_vectors, train_y)\n",
        "\n",
        "print('\\n####DEV RESULTS####')\n",
        "evaluation(model, dev_vectors, dev_y)\n",
        "print('\\n####TEST RESULTS####')\n",
        "evaluation(model, test_vectors, test_y)"
      ],
      "execution_count": null,
      "outputs": [
        {
          "output_type": "stream",
          "text": [
            "###TRAIN Split###\n",
            "ABU: 1143\n",
            "OFF: 1445\n",
            "NOT: 5176\n",
            "\n",
            "###DEV Split###\n",
            "ABU: 110\n",
            "OFF: 76\n",
            "NOT: 361\n",
            "\n",
            "###TEST Split###\n",
            "ABU: 637\n",
            "OFF: 399\n",
            "NOT: 2072\n",
            "\n",
            "####DEV RESULTS####\n",
            "              precision    recall  f1-score   support\n",
            "\n",
            "         ABU      0.815     0.400     0.537       110\n",
            "         NOT      0.772     0.975     0.862       361\n",
            "         OFF      0.595     0.289     0.389        76\n",
            "\n",
            "    accuracy                          0.764       547\n",
            "   macro avg      0.727     0.555     0.596       547\n",
            "weighted avg      0.756     0.764     0.731       547\n",
            "\n",
            "\n",
            "####TEST RESULTS####\n",
            "              precision    recall  f1-score   support\n",
            "\n",
            "         ABU      0.811     0.155     0.261       637\n",
            "         NOT      0.741     0.984     0.845      2072\n",
            "         OFF      0.270     0.158     0.199       399\n",
            "\n",
            "    accuracy                          0.708      3108\n",
            "   macro avg      0.608     0.432     0.435      3108\n",
            "weighted avg      0.695     0.708     0.643      3108\n",
            "\n"
          ],
          "name": "stdout"
        }
      ]
    }
  ]
}